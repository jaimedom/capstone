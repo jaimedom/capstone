{
 "cells": [
  {
   "cell_type": "code",
   "execution_count": 1,
   "metadata": {},
   "outputs": [
    {
     "data": {
      "text/plain": [
       "['model.pkl']"
      ]
     },
     "execution_count": 1,
     "metadata": {},
     "output_type": "execute_result"
    }
   ],
   "source": [
    "from pandas.tseries.holiday import USFederalHolidayCalendar\n",
    "import pandas as pd\n",
    "from sklearn import base\n",
    "import numpy as np\n",
    "from sklearn.pipeline import Pipeline\n",
    "from sklearn.feature_extraction import DictVectorizer\n",
    "from sklearn.pipeline import FeatureUnion\n",
    "from sklearn import linear_model\n",
    "from sklearn import svm\n",
    "from sklearn.naive_bayes import GaussianNB\n",
    "from sklearn.tree import DecisionTreeClassifier\n",
    "from sklearn import metrics\n",
    "from tqdm import tqdm\n",
    "from sklearn import model_selection\n",
    "from sklearn.utils import shuffle\n",
    "import random\n",
    "from sklearn.externals import joblib\n",
    "from datetime import datetime\n",
    "\n",
    "# Import the fire related data\n",
    "\n",
    "df_true = pd.read_csv('fires_final.csv', parse_dates = ['startDate'])\n",
    "df_false = pd.read_csv('false_data.csv', parse_dates = ['startDate'])\n",
    "\n",
    "df = df_false.append(df_true[df_false.columns], ignore_index=True)\n",
    "\n",
    "holidays = USFederalHolidayCalendar().holidays(start=datetime(1969,12,31), \n",
    "                                               end=datetime(2100,12,31)\n",
    "                                              )\n",
    "\n",
    "# Clean data before building machine learning\n",
    "# Asume that there is no wind if not reported\n",
    "\n",
    "df.fillna(value = {'maxWind': 0}, inplace = True)\n",
    "\n",
    "# Eliminate the rows with missing values\n",
    "\n",
    "df.dropna(inplace=True)\n",
    "df.describe()\n",
    "\n",
    "# Define classes for machine learning\n",
    "\n",
    "class ColumnSelectTransformer(base.BaseEstimator, base.TransformerMixin):\n",
    "    \n",
    "    def __init__(self, colnames):\n",
    "        \n",
    "        self.cols = colnames\n",
    "        \n",
    "    def fit(self, X, y=None):\n",
    "        \n",
    "        return self\n",
    "    \n",
    "    def transform(self, X):\n",
    "        \n",
    "        return np.array(X[self.cols].values.tolist())\n",
    "\n",
    "  \n",
    "class DayProcessor(base.BaseEstimator, base.TransformerMixin):\n",
    "    \n",
    "    def fit(self, X, y=None):\n",
    "        \n",
    "        return self\n",
    "    \n",
    "    def transform(self, X):\n",
    "        \n",
    "        dates = pd.DatetimeIndex([i[0] for i in X])\n",
    "        \n",
    "        holidays = USFederalHolidayCalendar().holidays(start=datetime(1969,12,31), \n",
    "                                                       end=datetime(2100,12,31))\n",
    "        \n",
    "        a = np.array([x in holidays for x in list(dates)])\n",
    "        b = np.array([x.dayofweek in [5,6] for x in list(dates)])\n",
    "        \n",
    "        return np.stack((a,b), axis=1)\n",
    "    \n",
    "class MonthProcessor(base.BaseEstimator, base.TransformerMixin):\n",
    "    \n",
    "    def fit(self, X, y=None):\n",
    "        \n",
    "        return self\n",
    "    \n",
    "    def transform(self, X):\n",
    "        \n",
    "        dates = pd.DatetimeIndex([i[0] for i in X])\n",
    "        \n",
    "        return [{x.month: 1} for x in list(dates)]\n",
    "    \n",
    "class CountyDicGenerator(base.BaseEstimator, base.TransformerMixin):\n",
    "    \n",
    "    def fit(self, X, y=None):\n",
    "        \n",
    "        return self\n",
    "    \n",
    "    def transform(self, X):\n",
    "        \n",
    "        return [{''.join(x): 1} for x in X.tolist()]\n",
    "    \n",
    "class ThresholdEstimator(base.BaseEstimator, base.RegressorMixin):\n",
    "    \n",
    "    def __init__(self, model, r):\n",
    "        \n",
    "        self.model = model\n",
    "        self.r = r\n",
    "    \n",
    "    def fit(self, X, y):\n",
    "        \n",
    "        self.model.fit(X,y)\n",
    "        \n",
    "    def predict(self, X):\n",
    "        \n",
    "        return [True if k[1] > self.r else False for k in self.model.predict_proba(X)]\n",
    "    \n",
    "day_features = Pipeline([\n",
    "                         ('date',ColumnSelectTransformer(['startDate'])),\n",
    "                         ('day',DayProcessor())\n",
    "                        ])\n",
    "\n",
    "month_vectorizer = Pipeline([\n",
    "                             ('data',ColumnSelectTransformer(['startDate'])),\n",
    "                             ('month',MonthProcessor()),\n",
    "                             ('vectorizer', DictVectorizer(sparse = False))\n",
    "                            ])\n",
    "\n",
    "    \n",
    "county_vectorizer = Pipeline([\n",
    "                              ('county',ColumnSelectTransformer(['county'])),\n",
    "                              ('dict', CountyDicGenerator()),\n",
    "                              ('vectorizer', DictVectorizer(sparse = False))\n",
    "                             ])\n",
    "\n",
    "weather_variables = ['avgHumidity', 'dewPoint', 'maxHumidity', 'maxTemp',\n",
    "                     'maxWind', 'meanTemp', 'minHumidity', 'minTemp']\n",
    "\n",
    "label = np.array(df['fire'])\n",
    "\n",
    "features = FeatureUnion([\n",
    "        ('date',day_features),\n",
    "        ('month',month_vectorizer),\n",
    "        ('county',county_vectorizer),\n",
    "        ('weather',ColumnSelectTransformer(weather_variables))\n",
    "    ])\n",
    "\n",
    "\n",
    "model_final = Pipeline([\n",
    "                  ('features',features),\n",
    "                  ('tree',DecisionTreeClassifier(min_samples_leaf = 32))\n",
    "                 ])\n",
    "    \n",
    "estimator = ThresholdEstimator(model_final,0.1)\n",
    "estimator.fit(df,label)\n",
    "\n",
    "results = estimator.predict(df)\n",
    "metrics.confusion_matrix(label, results)\n",
    "\n",
    "# Save model\n",
    "\n",
    "joblib.dump(estimator, 'model.pkl', protocol = 1)"
   ]
  },
  {
   "cell_type": "code",
   "execution_count": 2,
   "metadata": {
    "collapsed": true
   },
   "outputs": [],
   "source": [
    "a = joblib.load('model.pkl')"
   ]
  },
  {
   "cell_type": "code",
   "execution_count": 3,
   "metadata": {},
   "outputs": [
    {
     "data": {
      "text/plain": [
       "False"
      ]
     },
     "execution_count": 3,
     "metadata": {},
     "output_type": "execute_result"
    }
   ],
   "source": [
    "a == estimator"
   ]
  },
  {
   "cell_type": "code",
   "execution_count": 4,
   "metadata": {},
   "outputs": [
    {
     "data": {
      "text/plain": [
       "ThresholdEstimator(model=Pipeline(steps=[('features', FeatureUnion(n_jobs=1,\n",
       "       transformer_list=[('date', Pipeline(steps=[('date', ColumnSelectTransformer(colnames=None)), ('day', DayProcessor())])), ('month', Pipeline(steps=[('data', ColumnSelectTransformer(colnames=None)), ('month', MonthProcessor()), ('vectorizer', DictVecto...it=2, min_weight_fraction_leaf=0.0,\n",
       "            presort=False, random_state=None, splitter='best'))]),\n",
       "          r=0.1)"
      ]
     },
     "execution_count": 4,
     "metadata": {},
     "output_type": "execute_result"
    }
   ],
   "source": [
    "a"
   ]
  },
  {
   "cell_type": "code",
   "execution_count": 5,
   "metadata": {},
   "outputs": [
    {
     "data": {
      "text/plain": [
       "ThresholdEstimator(model=Pipeline(steps=[('features', FeatureUnion(n_jobs=1,\n",
       "       transformer_list=[('date', Pipeline(steps=[('date', ColumnSelectTransformer(colnames=None)), ('day', DayProcessor())])), ('month', Pipeline(steps=[('data', ColumnSelectTransformer(colnames=None)), ('month', MonthProcessor()), ('vectorizer', DictVecto...it=2, min_weight_fraction_leaf=0.0,\n",
       "            presort=False, random_state=None, splitter='best'))]),\n",
       "          r=0.1)"
      ]
     },
     "execution_count": 5,
     "metadata": {},
     "output_type": "execute_result"
    }
   ],
   "source": [
    "estimator"
   ]
  },
  {
   "cell_type": "code",
   "execution_count": null,
   "metadata": {
    "collapsed": true
   },
   "outputs": [],
   "source": []
  }
 ],
 "metadata": {
  "kernelspec": {
   "display_name": "Python 2",
   "language": "python",
   "name": "python2"
  },
  "language_info": {
   "codemirror_mode": {
    "name": "ipython",
    "version": 2
   },
   "file_extension": ".py",
   "mimetype": "text/x-python",
   "name": "python",
   "nbconvert_exporter": "python",
   "pygments_lexer": "ipython2",
   "version": "2.7.13"
  }
 },
 "nbformat": 4,
 "nbformat_minor": 2
}
